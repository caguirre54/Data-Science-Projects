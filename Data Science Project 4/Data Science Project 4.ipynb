{
 "cells": [
  {
   "cell_type": "code",
   "execution_count": 1,
   "metadata": {},
   "outputs": [],
   "source": [
    "#Importing packages.\n",
    "import pandas as pd\n",
    "import matplotlib.pyplot as plt\n",
    "import numpy as np\n",
    "import math\n",
    "from sklearn import preprocessing\n",
    "from sklearn.linear_model import LogisticRegression\n",
    "from sklearn import linear_model\n",
    "from sklearn.model_selection import train_test_split\n",
    "from sklearn.preprocessing import StandardScaler, OneHotEncoder\n",
    "from sklearn.compose import ColumnTransformer\n",
    "from imblearn.over_sampling import SMOTE\n",
    "from sklearn.metrics import classification_report\n",
    "import sklearn.metrics as sklm\n",
    "import sklearn.metrics as metrics\n",
    "from sklearn.model_selection import GridSearchCV\n",
    "from sklearn import tree\n",
    "from sklearn.ensemble import RandomForestClassifier\n"
   ]
  },
  {
   "cell_type": "code",
   "execution_count": 2,
   "metadata": {},
   "outputs": [
    {
     "name": "stdout",
     "output_type": "stream",
     "text": [
      "(45211, 17)\n"
     ]
    },
    {
     "data": {
      "text/html": [
       "<div>\n",
       "<style scoped>\n",
       "    .dataframe tbody tr th:only-of-type {\n",
       "        vertical-align: middle;\n",
       "    }\n",
       "\n",
       "    .dataframe tbody tr th {\n",
       "        vertical-align: top;\n",
       "    }\n",
       "\n",
       "    .dataframe thead th {\n",
       "        text-align: right;\n",
       "    }\n",
       "</style>\n",
       "<table border=\"1\" class=\"dataframe\">\n",
       "  <thead>\n",
       "    <tr style=\"text-align: right;\">\n",
       "      <th></th>\n",
       "      <th>age</th>\n",
       "      <th>job</th>\n",
       "      <th>marital</th>\n",
       "      <th>education</th>\n",
       "      <th>default</th>\n",
       "      <th>balance</th>\n",
       "      <th>housing</th>\n",
       "      <th>loan</th>\n",
       "      <th>contact</th>\n",
       "      <th>day</th>\n",
       "      <th>month</th>\n",
       "      <th>duration</th>\n",
       "      <th>campaign</th>\n",
       "      <th>pdays</th>\n",
       "      <th>previous</th>\n",
       "      <th>poutcome</th>\n",
       "      <th>y</th>\n",
       "    </tr>\n",
       "  </thead>\n",
       "  <tbody>\n",
       "    <tr>\n",
       "      <th>0</th>\n",
       "      <td>58</td>\n",
       "      <td>management</td>\n",
       "      <td>married</td>\n",
       "      <td>tertiary</td>\n",
       "      <td>0</td>\n",
       "      <td>2143</td>\n",
       "      <td>1</td>\n",
       "      <td>0</td>\n",
       "      <td>unknown</td>\n",
       "      <td>5</td>\n",
       "      <td>may</td>\n",
       "      <td>261</td>\n",
       "      <td>1</td>\n",
       "      <td>-1</td>\n",
       "      <td>0</td>\n",
       "      <td>unknown</td>\n",
       "      <td>0</td>\n",
       "    </tr>\n",
       "    <tr>\n",
       "      <th>1</th>\n",
       "      <td>44</td>\n",
       "      <td>technician</td>\n",
       "      <td>single</td>\n",
       "      <td>secondary</td>\n",
       "      <td>0</td>\n",
       "      <td>29</td>\n",
       "      <td>1</td>\n",
       "      <td>0</td>\n",
       "      <td>unknown</td>\n",
       "      <td>5</td>\n",
       "      <td>may</td>\n",
       "      <td>151</td>\n",
       "      <td>1</td>\n",
       "      <td>-1</td>\n",
       "      <td>0</td>\n",
       "      <td>unknown</td>\n",
       "      <td>0</td>\n",
       "    </tr>\n",
       "    <tr>\n",
       "      <th>2</th>\n",
       "      <td>33</td>\n",
       "      <td>entrepreneur</td>\n",
       "      <td>married</td>\n",
       "      <td>secondary</td>\n",
       "      <td>0</td>\n",
       "      <td>2</td>\n",
       "      <td>1</td>\n",
       "      <td>1</td>\n",
       "      <td>unknown</td>\n",
       "      <td>5</td>\n",
       "      <td>may</td>\n",
       "      <td>76</td>\n",
       "      <td>1</td>\n",
       "      <td>-1</td>\n",
       "      <td>0</td>\n",
       "      <td>unknown</td>\n",
       "      <td>0</td>\n",
       "    </tr>\n",
       "    <tr>\n",
       "      <th>3</th>\n",
       "      <td>47</td>\n",
       "      <td>blue-collar</td>\n",
       "      <td>married</td>\n",
       "      <td>unknown</td>\n",
       "      <td>0</td>\n",
       "      <td>1506</td>\n",
       "      <td>1</td>\n",
       "      <td>0</td>\n",
       "      <td>unknown</td>\n",
       "      <td>5</td>\n",
       "      <td>may</td>\n",
       "      <td>92</td>\n",
       "      <td>1</td>\n",
       "      <td>-1</td>\n",
       "      <td>0</td>\n",
       "      <td>unknown</td>\n",
       "      <td>0</td>\n",
       "    </tr>\n",
       "    <tr>\n",
       "      <th>4</th>\n",
       "      <td>33</td>\n",
       "      <td>unknown</td>\n",
       "      <td>single</td>\n",
       "      <td>unknown</td>\n",
       "      <td>0</td>\n",
       "      <td>1</td>\n",
       "      <td>0</td>\n",
       "      <td>0</td>\n",
       "      <td>unknown</td>\n",
       "      <td>5</td>\n",
       "      <td>may</td>\n",
       "      <td>198</td>\n",
       "      <td>1</td>\n",
       "      <td>-1</td>\n",
       "      <td>0</td>\n",
       "      <td>unknown</td>\n",
       "      <td>0</td>\n",
       "    </tr>\n",
       "  </tbody>\n",
       "</table>\n",
       "</div>"
      ],
      "text/plain": [
       "   age           job  marital  education  default  balance  housing  loan  \\\n",
       "0   58    management  married   tertiary        0     2143        1     0   \n",
       "1   44    technician   single  secondary        0       29        1     0   \n",
       "2   33  entrepreneur  married  secondary        0        2        1     1   \n",
       "3   47   blue-collar  married    unknown        0     1506        1     0   \n",
       "4   33       unknown   single    unknown        0        1        0     0   \n",
       "\n",
       "   contact  day month  duration  campaign  pdays  previous poutcome  y  \n",
       "0  unknown    5   may       261         1     -1         0  unknown  0  \n",
       "1  unknown    5   may       151         1     -1         0  unknown  0  \n",
       "2  unknown    5   may        76         1     -1         0  unknown  0  \n",
       "3  unknown    5   may        92         1     -1         0  unknown  0  \n",
       "4  unknown    5   may       198         1     -1         0  unknown  0  "
      ]
     },
     "execution_count": 2,
     "metadata": {},
     "output_type": "execute_result"
    }
   ],
   "source": [
    "#Loading bank-full.csv to pandas df.\n",
    "df = pd.read_csv(\"bank-full.csv\")\n",
    "print(df.shape)\n",
    "df.head()"
   ]
  },
  {
   "cell_type": "code",
   "execution_count": 3,
   "metadata": {
    "scrolled": true
   },
   "outputs": [
    {
     "name": "stdout",
     "output_type": "stream",
     "text": [
      "(45211, 17)\n"
     ]
    }
   ],
   "source": [
    "#Dropping rows with NAs and checking resulting dataframe shape.\n",
    "df.dropna(inplace=True)\n",
    "print(df.shape)"
   ]
  },
  {
   "cell_type": "code",
   "execution_count": 4,
   "metadata": {
    "scrolled": true
   },
   "outputs": [
    {
     "data": {
      "text/html": [
       "<div>\n",
       "<style scoped>\n",
       "    .dataframe tbody tr th:only-of-type {\n",
       "        vertical-align: middle;\n",
       "    }\n",
       "\n",
       "    .dataframe tbody tr th {\n",
       "        vertical-align: top;\n",
       "    }\n",
       "\n",
       "    .dataframe thead th {\n",
       "        text-align: right;\n",
       "    }\n",
       "</style>\n",
       "<table border=\"1\" class=\"dataframe\">\n",
       "  <thead>\n",
       "    <tr style=\"text-align: right;\">\n",
       "      <th></th>\n",
       "      <th>age</th>\n",
       "      <th>job</th>\n",
       "      <th>marital</th>\n",
       "      <th>education</th>\n",
       "      <th>default</th>\n",
       "      <th>balance</th>\n",
       "      <th>housing</th>\n",
       "      <th>loan</th>\n",
       "      <th>contact</th>\n",
       "      <th>day</th>\n",
       "      <th>month</th>\n",
       "      <th>duration</th>\n",
       "      <th>campaign</th>\n",
       "      <th>pdays</th>\n",
       "      <th>previous</th>\n",
       "      <th>poutcome</th>\n",
       "    </tr>\n",
       "  </thead>\n",
       "  <tbody>\n",
       "    <tr>\n",
       "      <th>0</th>\n",
       "      <td>58</td>\n",
       "      <td>management</td>\n",
       "      <td>married</td>\n",
       "      <td>tertiary</td>\n",
       "      <td>0</td>\n",
       "      <td>2143</td>\n",
       "      <td>1</td>\n",
       "      <td>0</td>\n",
       "      <td>unknown</td>\n",
       "      <td>5</td>\n",
       "      <td>may</td>\n",
       "      <td>261</td>\n",
       "      <td>1</td>\n",
       "      <td>-1</td>\n",
       "      <td>0</td>\n",
       "      <td>unknown</td>\n",
       "    </tr>\n",
       "    <tr>\n",
       "      <th>1</th>\n",
       "      <td>44</td>\n",
       "      <td>technician</td>\n",
       "      <td>single</td>\n",
       "      <td>secondary</td>\n",
       "      <td>0</td>\n",
       "      <td>29</td>\n",
       "      <td>1</td>\n",
       "      <td>0</td>\n",
       "      <td>unknown</td>\n",
       "      <td>5</td>\n",
       "      <td>may</td>\n",
       "      <td>151</td>\n",
       "      <td>1</td>\n",
       "      <td>-1</td>\n",
       "      <td>0</td>\n",
       "      <td>unknown</td>\n",
       "    </tr>\n",
       "    <tr>\n",
       "      <th>2</th>\n",
       "      <td>33</td>\n",
       "      <td>entrepreneur</td>\n",
       "      <td>married</td>\n",
       "      <td>secondary</td>\n",
       "      <td>0</td>\n",
       "      <td>2</td>\n",
       "      <td>1</td>\n",
       "      <td>1</td>\n",
       "      <td>unknown</td>\n",
       "      <td>5</td>\n",
       "      <td>may</td>\n",
       "      <td>76</td>\n",
       "      <td>1</td>\n",
       "      <td>-1</td>\n",
       "      <td>0</td>\n",
       "      <td>unknown</td>\n",
       "    </tr>\n",
       "    <tr>\n",
       "      <th>3</th>\n",
       "      <td>47</td>\n",
       "      <td>blue-collar</td>\n",
       "      <td>married</td>\n",
       "      <td>unknown</td>\n",
       "      <td>0</td>\n",
       "      <td>1506</td>\n",
       "      <td>1</td>\n",
       "      <td>0</td>\n",
       "      <td>unknown</td>\n",
       "      <td>5</td>\n",
       "      <td>may</td>\n",
       "      <td>92</td>\n",
       "      <td>1</td>\n",
       "      <td>-1</td>\n",
       "      <td>0</td>\n",
       "      <td>unknown</td>\n",
       "    </tr>\n",
       "    <tr>\n",
       "      <th>4</th>\n",
       "      <td>33</td>\n",
       "      <td>unknown</td>\n",
       "      <td>single</td>\n",
       "      <td>unknown</td>\n",
       "      <td>0</td>\n",
       "      <td>1</td>\n",
       "      <td>0</td>\n",
       "      <td>0</td>\n",
       "      <td>unknown</td>\n",
       "      <td>5</td>\n",
       "      <td>may</td>\n",
       "      <td>198</td>\n",
       "      <td>1</td>\n",
       "      <td>-1</td>\n",
       "      <td>0</td>\n",
       "      <td>unknown</td>\n",
       "    </tr>\n",
       "  </tbody>\n",
       "</table>\n",
       "</div>"
      ],
      "text/plain": [
       "   age           job  marital  education  default  balance  housing  loan  \\\n",
       "0   58    management  married   tertiary        0     2143        1     0   \n",
       "1   44    technician   single  secondary        0       29        1     0   \n",
       "2   33  entrepreneur  married  secondary        0        2        1     1   \n",
       "3   47   blue-collar  married    unknown        0     1506        1     0   \n",
       "4   33       unknown   single    unknown        0        1        0     0   \n",
       "\n",
       "   contact  day month  duration  campaign  pdays  previous poutcome  \n",
       "0  unknown    5   may       261         1     -1         0  unknown  \n",
       "1  unknown    5   may       151         1     -1         0  unknown  \n",
       "2  unknown    5   may        76         1     -1         0  unknown  \n",
       "3  unknown    5   may        92         1     -1         0  unknown  \n",
       "4  unknown    5   may       198         1     -1         0  unknown  "
      ]
     },
     "execution_count": 4,
     "metadata": {},
     "output_type": "execute_result"
    }
   ],
   "source": [
    "#Defining X and y variables.\n",
    "X = df.drop('y', axis = 'columns')\n",
    "y = np.array(df['y'])\n",
    "\n",
    "X.head()"
   ]
  },
  {
   "cell_type": "code",
   "execution_count": null,
   "metadata": {},
   "outputs": [],
   "source": []
  },
  {
   "cell_type": "code",
   "execution_count": 5,
   "metadata": {},
   "outputs": [],
   "source": [
    "#Defining column transformer to perform preprocessing steps.\n",
    "#Note including the \"duration\" column greatly biases the model\n",
    "#as mentioned in the dataset documentation. \n",
    "col_transformer = ColumnTransformer(\n",
    "                    transformers=[\n",
    "                        ('mms', preprocessing.MinMaxScaler(), ['campaign',\n",
    "                                                 'housing',\n",
    "                                                 'loan',\n",
    "                                                 'age',\n",
    "                                                 'previous',\n",
    "                                                 'pdays']),\n",
    "                        ('ohe', OneHotEncoder(), ['education',\n",
    "                                                 'marital',\n",
    "                                                 'poutcome',\n",
    "                                                 'month',\n",
    "                                                 'job',\n",
    "                                                 'contact']),\n",
    "                    ],\n",
    "                    remainder='drop'\n",
    "                    )"
   ]
  },
  {
   "cell_type": "code",
   "execution_count": 6,
   "metadata": {},
   "outputs": [],
   "source": [
    "#Applying transformations of X to X_transformed variable.\n",
    "X_transformed = col_transformer.fit_transform(X)"
   ]
  },
  {
   "cell_type": "code",
   "execution_count": 7,
   "metadata": {},
   "outputs": [],
   "source": [
    "#Splitting the data.\n",
    "X_train, X_test, y_train, y_test = train_test_split(\n",
    "    X_transformed, y, test_size = 0.2, random_state=0)"
   ]
  },
  {
   "cell_type": "code",
   "execution_count": 8,
   "metadata": {},
   "outputs": [],
   "source": [
    "#Initializing and applying SMOTE to training data.\n",
    "smote = SMOTE(sampling_strategy=1,random_state=1, k_neighbors = 5)\n",
    "X_train_smote, y_train_smote = smote.fit_sample(X_train.astype('float'),y_train)"
   ]
  },
  {
   "cell_type": "code",
   "execution_count": 9,
   "metadata": {},
   "outputs": [
    {
     "data": {
      "text/plain": [
       "LogisticRegression(max_iter=2500, solver='liblinear')"
      ]
     },
     "execution_count": 9,
     "metadata": {},
     "output_type": "execute_result"
    }
   ],
   "source": [
    "#Fitting logistic regression model.\n",
    "logistic_mod = linear_model.LogisticRegression(max_iter=2500, \n",
    "                                               solver='liblinear')\n",
    "logistic_mod.fit(X_train_smote, y_train_smote)"
   ]
  },
  {
   "cell_type": "code",
   "execution_count": 10,
   "metadata": {},
   "outputs": [],
   "source": [
    "#Creating Parameter Grid for GridSearch.\n",
    "param_grid = [\n",
    "    {'penalty' : ['l2'],\n",
    "    'C' : np.logspace(0, 5, 20),\n",
    "    'solver' : ['lbfgs', 'newton-cg', 'liblinear', 'sag', 'saga'],\n",
    "     'max_iter' : [2500]\n",
    "    }\n",
    "]\n",
    "\n",
    "clf = GridSearchCV(logistic_mod, param_grid = param_grid, cv = 3, verbose=True, n_jobs=-1)"
   ]
  },
  {
   "cell_type": "code",
   "execution_count": 11,
   "metadata": {},
   "outputs": [
    {
     "data": {
      "text/plain": [
       "'best_clf = clf.fit(X_transformed, y)\\nFitting 3 folds for each of 100 candidates, totalling 300 fits\\n\\n[Parallel(n_jobs=-1)]: Using backend LokyBackend with 6 concurrent workers.\\n[Parallel(n_jobs=-1)]: Done  38 tasks      | elapsed:   14.5s\\n[Parallel(n_jobs=-1)]: Done 188 tasks      | elapsed:  1.5min\\n[Parallel(n_jobs=-1)]: Done 300 out of 300 | elapsed:  2.8min finished'"
      ]
     },
     "execution_count": 11,
     "metadata": {},
     "output_type": "execute_result"
    }
   ],
   "source": [
    "#Implementing GridSearch.\n",
    "'''best_clf = clf.fit(X_transformed, y)\n",
    "Fitting 3 folds for each of 100 candidates, totalling 300 fits\n",
    "\n",
    "[Parallel(n_jobs=-1)]: Using backend LokyBackend with 6 concurrent workers.\n",
    "[Parallel(n_jobs=-1)]: Done  38 tasks      | elapsed:   14.5s\n",
    "[Parallel(n_jobs=-1)]: Done 188 tasks      | elapsed:  1.5min\n",
    "[Parallel(n_jobs=-1)]: Done 300 out of 300 | elapsed:  2.8min finished'''\n"
   ]
  },
  {
   "cell_type": "code",
   "execution_count": 12,
   "metadata": {},
   "outputs": [
    {
     "data": {
      "text/plain": [
       "\"best_clf.best_estimator_\\n\\nLogisticRegression(max_iter=2500, solver='liblinear')\""
      ]
     },
     "execution_count": 12,
     "metadata": {},
     "output_type": "execute_result"
    }
   ],
   "source": [
    "#Retreiving best hyperparameter values.\n",
    "'''best_clf.best_estimator_\n",
    "\n",
    "LogisticRegression(max_iter=2500, solver='liblinear')'''"
   ]
  },
  {
   "cell_type": "code",
   "execution_count": 13,
   "metadata": {},
   "outputs": [
    {
     "name": "stdout",
     "output_type": "stream",
     "text": [
      "[[0.79611692 0.20388308]\n",
      " [0.37339165 0.62660835]\n",
      " [0.79215476 0.20784524]\n",
      " [0.88519543 0.11480457]\n",
      " [0.74031402 0.25968598]\n",
      " [0.60536931 0.39463069]\n",
      " [0.49510875 0.50489125]\n",
      " [0.54331603 0.45668397]\n",
      " [0.52246457 0.47753543]\n",
      " [0.70330834 0.29669166]\n",
      " [0.58821795 0.41178205]\n",
      " [0.76055508 0.23944492]\n",
      " [0.31826214 0.68173786]\n",
      " [0.67012547 0.32987453]\n",
      " [0.53163544 0.46836456]]\n"
     ]
    }
   ],
   "source": [
    "#Creating probabilities and previewing the first 15 predictions.\n",
    "probabilities = logistic_mod.predict_proba(X_test)\n",
    "print(probabilities[:15,:])"
   ]
  },
  {
   "cell_type": "code",
   "execution_count": 14,
   "metadata": {},
   "outputs": [
    {
     "name": "stdout",
     "output_type": "stream",
     "text": [
      "[0 1 0 0 0 0 0 0 0 0 0 0 1 0 0]\n",
      "[0 1 0 0 0 0 0 0 0 0 0 0 0 0 0]\n"
     ]
    }
   ],
   "source": [
    "#Creating ability to adjust threshold and previewing prediction and y_test.\n",
    "def score_model(probs, threshold):\n",
    "    return np.array([1 if x > threshold else 0 for x in probs[:,1]])\n",
    "scores = score_model(probabilities, 0.6)\n",
    "print(np.array(scores[:15]))\n",
    "print(y_test[:15])"
   ]
  },
  {
   "cell_type": "code",
   "execution_count": 15,
   "metadata": {
    "scrolled": true
   },
   "outputs": [
    {
     "name": "stdout",
     "output_type": "stream",
     "text": [
      "                 Confusion matrix\n",
      "                 Score positive    Score negative\n",
      "Actual positive       515               548\n",
      "Actual negative       795              7185\n",
      "\n",
      "Accuracy  0.85\n",
      " \n",
      "           Positive      Negative\n",
      "Num case     1063          7980\n",
      "Precision    0.39          0.93\n",
      "Recall       0.48          0.90\n",
      "F1           0.43          0.91\n"
     ]
    }
   ],
   "source": [
    "#Creating confusion matrix for Logistic Regression.\n",
    "def print_metrics(labels, scores):\n",
    "    metrics = sklm.precision_recall_fscore_support(labels, scores)\n",
    "    conf = sklm.confusion_matrix(labels, scores)\n",
    "    print('                 Confusion matrix')\n",
    "    print('                 Score positive    Score negative')\n",
    "    print('Actual positive    %6d' % conf[1,1] + '             %5d' % conf[1,0])\n",
    "    print('Actual negative    %6d' % conf[0,1] + '             %5d' % conf[0,0])\n",
    "    print('')\n",
    "    print('Accuracy  %0.2f' % sklm.accuracy_score(labels, scores))\n",
    "    print(' ')\n",
    "    print('           Positive      Negative')\n",
    "    print('Num case   %6d' % metrics[3][1] + '        %6d' % metrics[3][0])\n",
    "    print('Precision  %6.2f' % metrics[0][1] + '        %6.2f' % metrics[0][0])\n",
    "    print('Recall     %6.2f' % metrics[1][1] + '        %6.2f' % metrics[1][0])\n",
    "    print('F1         %6.2f' % metrics[2][1] + '        %6.2f' % metrics[2][0])\n",
    "\n",
    "\n",
    "    \n",
    "print_metrics(y_test, scores) "
   ]
  },
  {
   "cell_type": "code",
   "execution_count": 16,
   "metadata": {},
   "outputs": [
    {
     "data": {
      "image/png": "[encoded data removed]",
      "text/plain": [
       "<Figure size 432x288 with 1 Axes>"
      ]
     },
     "metadata": {
      "needs_background": "light"
     },
     "output_type": "display_data"
    }
   ],
   "source": [
    "#Creating ROC plot illustrating AUC.\n",
    "probs = logistic_mod.predict_proba(X_test)\n",
    "preds = probs[:,1]\n",
    "fpr, tpr, threshold = metrics.roc_curve(y_test, preds)\n",
    "roc_auc = metrics.auc(fpr, tpr)\n",
    "\n",
    "plt.title('Receiver Operating Characteristic')\n",
    "plt.plot(fpr, tpr, 'b', label = 'AUC = %0.3f' % roc_auc)\n",
    "plt.legend(loc = 'lower right')\n",
    "plt.plot([0, 1], [0, 1],'r--')\n",
    "plt.xlim([0, 1])\n",
    "plt.ylim([0, 1])\n",
    "plt.ylabel('True Positive Rate')\n",
    "plt.xlabel('False Positive Rate')\n",
    "plt.show()"
   ]
  },
  {
   "cell_type": "code",
   "execution_count": 17,
   "metadata": {},
   "outputs": [],
   "source": [
    "#Creating RandomForestClassifier with hyperparameters from GridSearch.\n",
    "rndforest = RandomForestClassifier(bootstrap= True,\n",
    " max_depth= 4,\n",
    " max_features= 'auto',\n",
    " min_samples_leaf= 1,\n",
    " min_samples_split= 2,\n",
    " n_estimators= 27,\n",
    " random_state= 0)\n",
    "rndforest = rndforest.fit(X_train_smote, y_train_smote)"
   ]
  },
  {
   "cell_type": "code",
   "execution_count": 18,
   "metadata": {},
   "outputs": [],
   "source": [
    "#Creating Parameter Grid for GridSearch.\n",
    "param_grid1 = [\n",
    "    {'n_estimators' : [int(x) for x in np.linspace(start = 1, stop = 80, num =10)],\n",
    "    'max_features' : ['auto', 'sqrt'],\n",
    "    'max_depth' : [2, 4],\n",
    "    'min_samples_split' : [2, 5],\n",
    "    'min_samples_leaf' : [1, 2],\n",
    "    'bootstrap' : [True, False]\n",
    "    }\n",
    "]"
   ]
  },
  {
   "cell_type": "code",
   "execution_count": 19,
   "metadata": {},
   "outputs": [
    {
     "data": {
      "text/plain": [
       "'#Initializing GridSearch.\\nrf_grid = GridSearchCV(estimator = rndforest, param_grid = param_grid1, cv = 3,\\n                      verbose = 2, n_jobs=4)\\n                      \\nrf_grid.fit(X_train_smote, y_train_smote)\\n\\nFitting 3 folds for each of 320 candidates, totalling 960 fits\\n\\n[Parallel(n_jobs=4)]: Using backend LokyBackend with 4 concurrent workers.\\n[Parallel(n_jobs=4)]: Done  33 tasks      | elapsed:    3.7s\\n[Parallel(n_jobs=4)]: Done 154 tasks      | elapsed:   13.7s\\n[Parallel(n_jobs=4)]: Done 357 tasks      | elapsed:   35.7s\\n[Parallel(n_jobs=4)]: Done 640 tasks      | elapsed:  1.0min\\n[Parallel(n_jobs=4)]: Done 960 out of 960 | elapsed:  1.7min finished'"
      ]
     },
     "execution_count": 19,
     "metadata": {},
     "output_type": "execute_result"
    }
   ],
   "source": [
    "'''#Initializing GridSearch.\n",
    "rf_grid = GridSearchCV(estimator = rndforest, param_grid = param_grid1, cv = 3,\n",
    "                      verbose = 2, n_jobs=4)\n",
    "                      \n",
    "rf_grid.fit(X_train_smote, y_train_smote)\n",
    "\n",
    "Fitting 3 folds for each of 320 candidates, totalling 960 fits\n",
    "\n",
    "[Parallel(n_jobs=4)]: Using backend LokyBackend with 4 concurrent workers.\n",
    "[Parallel(n_jobs=4)]: Done  33 tasks      | elapsed:    3.7s\n",
    "[Parallel(n_jobs=4)]: Done 154 tasks      | elapsed:   13.7s\n",
    "[Parallel(n_jobs=4)]: Done 357 tasks      | elapsed:   35.7s\n",
    "[Parallel(n_jobs=4)]: Done 640 tasks      | elapsed:  1.0min\n",
    "[Parallel(n_jobs=4)]: Done 960 out of 960 | elapsed:  1.7min finished'''\n"
   ]
  },
  {
   "cell_type": "code",
   "execution_count": 20,
   "metadata": {},
   "outputs": [
    {
     "data": {
      "text/plain": [
       "\"#Retreiving best hyperparameter values.\\nrf_grid.best_params_\\n\\n{'bootstrap': False,\\n 'max_depth': 4,\\n 'max_features': 'auto',\\n 'min_samples_leaf': 1,\\n 'min_samples_split': 2,\\n 'n_estimators': 27}\""
      ]
     },
     "execution_count": 20,
     "metadata": {},
     "output_type": "execute_result"
    }
   ],
   "source": [
    "'''#Retreiving best hyperparameter values.\n",
    "rf_grid.best_params_\n",
    "\n",
    "{'bootstrap': False,\n",
    " 'max_depth': 4,\n",
    " 'max_features': 'auto',\n",
    " 'min_samples_leaf': 1,\n",
    " 'min_samples_split': 2,\n",
    " 'n_estimators': 27}'''"
   ]
  },
  {
   "cell_type": "code",
   "execution_count": 21,
   "metadata": {},
   "outputs": [
    {
     "name": "stdout",
     "output_type": "stream",
     "text": [
      "[[0.5636485  0.4363515 ]\n",
      " [0.51345656 0.48654344]\n",
      " [0.635159   0.364841  ]\n",
      " [0.5682256  0.4317744 ]\n",
      " [0.61936932 0.38063068]\n",
      " [0.56368603 0.43631397]\n",
      " [0.55243809 0.44756191]\n",
      " [0.5388283  0.4611717 ]\n",
      " [0.49412884 0.50587116]\n",
      " [0.61431893 0.38568107]\n",
      " [0.55452658 0.44547342]\n",
      " [0.47621339 0.52378661]\n",
      " [0.33890389 0.66109611]\n",
      " [0.67052094 0.32947906]\n",
      " [0.50079145 0.49920855]]\n"
     ]
    }
   ],
   "source": [
    "#Creating probabilities and previewing the first 15 predictions.\n",
    "probabilities1 = rndforest.predict_proba(X_test)\n",
    "print(probabilities1[:15,:])"
   ]
  },
  {
   "cell_type": "code",
   "execution_count": 22,
   "metadata": {},
   "outputs": [
    {
     "name": "stdout",
     "output_type": "stream",
     "text": [
      "[0 0 0 0 0 0 0 0 0 0 0 0 1 0 0]\n",
      "[0 1 0 0 0 0 0 0 0 0 0 0 0 0 0]\n"
     ]
    }
   ],
   "source": [
    "#Creating ability to adjust threshold and previewing prediction and y_test.\n",
    "def score_model1(probs1, threshold1):\n",
    "    return np.array([1 if x > threshold1 else 0 for x in probs1[:,1]])\n",
    "scores1 = score_model1(probabilities1, 0.55)\n",
    "print(np.array(scores1[:15]))\n",
    "print(y_test[:15])"
   ]
  },
  {
   "cell_type": "code",
   "execution_count": 23,
   "metadata": {},
   "outputs": [
    {
     "name": "stdout",
     "output_type": "stream",
     "text": [
      "                 Confusion matrix\n",
      "                 Score positive    Score negative\n",
      "Actual positive       480               583\n",
      "Actual negative       752              7228\n",
      "\n",
      "Accuracy  0.85\n",
      " \n",
      "           Positive      Negative\n",
      "Num case     1063          7980\n",
      "Precision    0.39          0.93\n",
      "Recall       0.45          0.91\n",
      "F1           0.42          0.92\n"
     ]
    }
   ],
   "source": [
    "#Creating confusion matrix for RandomForestClassifier.\n",
    "def print_metrics1(labels1, scores1):\n",
    "    metrics1 = sklm.precision_recall_fscore_support(labels1, scores1)\n",
    "    conf1 = sklm.confusion_matrix(labels1, scores1)\n",
    "    print('                 Confusion matrix')\n",
    "    print('                 Score positive    Score negative')\n",
    "    print('Actual positive    %6d' % conf1[1,1] + '             %5d' % conf1[1,0])\n",
    "    print('Actual negative    %6d' % conf1[0,1] + '             %5d' % conf1[0,0])\n",
    "    print('')\n",
    "    print('Accuracy  %0.2f' % sklm.accuracy_score(labels1, scores1))\n",
    "    print(' ')\n",
    "    print('           Positive      Negative')\n",
    "    print('Num case   %6d' % metrics1[3][1] + '        %6d' % metrics1[3][0])\n",
    "    print('Precision  %6.2f' % metrics1[0][1] + '        %6.2f' % metrics1[0][0])\n",
    "    print('Recall     %6.2f' % metrics1[1][1] + '        %6.2f' % metrics1[1][0])\n",
    "    print('F1         %6.2f' % metrics1[2][1] + '        %6.2f' % metrics1[2][0])\n",
    "\n",
    "\n",
    "    \n",
    "print_metrics1(y_test, scores1) "
   ]
  },
  {
   "cell_type": "code",
   "execution_count": 24,
   "metadata": {},
   "outputs": [
    {
     "data": {
      "image/png": "[encoded data removed]",
      "text/plain": [
       "<Figure size 432x288 with 1 Axes>"
      ]
     },
     "metadata": {
      "needs_background": "light"
     },
     "output_type": "display_data"
    }
   ],
   "source": [
    "#Creating ROC plot illustrating AUC.\n",
    "probs1 = rndforest.predict_proba(X_test)\n",
    "preds1 = probs1[:,1]\n",
    "fpr1, tpr1, threshold1 = metrics.roc_curve(y_test, preds1)\n",
    "roc_auc1 = metrics.auc(fpr1, tpr1)\n",
    "\n",
    "plt.title('Receiver Operating Characteristic')\n",
    "plt.plot(fpr1, tpr1, 'b', label = 'AUC = %0.3f' % roc_auc1)\n",
    "plt.legend(loc = 'lower right')\n",
    "plt.plot([0, 1], [0, 1],'r--')\n",
    "plt.xlim([0, 1])\n",
    "plt.ylim([0, 1])\n",
    "plt.ylabel('True Positive Rate')\n",
    "plt.xlabel('False Positive Rate')\n",
    "plt.show()"
   ]
  },
  {
   "cell_type": "code",
   "execution_count": null,
   "metadata": {},
   "outputs": [],
   "source": []
  }
 ],
 "metadata": {
  "kernelspec": {
   "display_name": "Python 3",
   "language": "python",
   "name": "python3"
  },
  "language_info": {
   "codemirror_mode": {
    "name": "ipython",
    "version": 3
   },
   "file_extension": ".py",
   "mimetype": "text/x-python",
   "name": "python",
   "nbconvert_exporter": "python",
   "pygments_lexer": "ipython3",
   "version": "3.7.6"
  }
 },
 "nbformat": 4,
 "nbformat_minor": 4
}
