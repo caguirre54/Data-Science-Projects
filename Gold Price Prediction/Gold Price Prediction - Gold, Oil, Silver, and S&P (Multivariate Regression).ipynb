{
 "cells": [
  {
   "cell_type": "code",
   "execution_count": 1,
   "metadata": {},
   "outputs": [],
   "source": [
    "#Importing Packages\n",
    "import statsmodels.api as sm\n",
    "import pandas as pd\n",
    "import numpy as np\n",
    "import matplotlib.pyplot as plt\n",
    "from sklearn import linear_model\n",
    "from sklearn.model_selection import train_test_split\n",
    "from sklearn.linear_model import LinearRegression\n",
    "from sklearn.metrics import mean_squared_error\n",
    "from sklearn import preprocessing\n",
    "from math import sqrt\n",
    "from scipy.interpolate import interp1d"
   ]
  },
  {
   "cell_type": "code",
   "execution_count": 2,
   "metadata": {},
   "outputs": [],
   "source": [
    "#Import CSVs to pandas data frame,\n",
    "df = pd.read_csv('GoldOilSilverPriceHistory2Yrs8_24_2020.csv')\n",
    "\n",
    "#Coverting Date column to Date Time object and sorting chronologically.\n",
    "df['Date'] = pd.to_datetime(df['Date'])\n",
    "df.sort_values(by='Date')\n",
    "\n",
    "#Set date as index.\n",
    "df.set_index('Date',inplace=True)\n"
   ]
  },
  {
   "cell_type": "code",
   "execution_count": 3,
   "metadata": {},
   "outputs": [],
   "source": [
    "#Fill NaNs for needed columns.\n",
    "df['Oil Last'].fillna(method = 'ffill', inplace=True)\n",
    "df['Silver Last'].fillna(method = 'ffill', inplace=True)\n",
    "df['S&P Last'].fillna(method = 'ffill', inplace=True)"
   ]
  },
  {
   "cell_type": "code",
   "execution_count": 4,
   "metadata": {},
   "outputs": [
    {
     "data": {
      "text/html": [
       "<div>\n",
       "<style scoped>\n",
       "    .dataframe tbody tr th:only-of-type {\n",
       "        vertical-align: middle;\n",
       "    }\n",
       "\n",
       "    .dataframe tbody tr th {\n",
       "        vertical-align: top;\n",
       "    }\n",
       "\n",
       "    .dataframe thead th {\n",
       "        text-align: right;\n",
       "    }\n",
       "</style>\n",
       "<table border=\"1\" class=\"dataframe\">\n",
       "  <thead>\n",
       "    <tr style=\"text-align: right;\">\n",
       "      <th></th>\n",
       "      <th>Gold Open</th>\n",
       "      <th>Gold High</th>\n",
       "      <th>Gold Low</th>\n",
       "      <th>Gold Last</th>\n",
       "      <th>Gold Change</th>\n",
       "      <th>Oil Open</th>\n",
       "      <th>Oil High</th>\n",
       "      <th>Oil Low</th>\n",
       "      <th>Oil Last</th>\n",
       "      <th>Silver Open</th>\n",
       "      <th>...</th>\n",
       "      <th>USD Open</th>\n",
       "      <th>USD High</th>\n",
       "      <th>USD Low</th>\n",
       "      <th>USD Last</th>\n",
       "      <th>S&amp;P Open</th>\n",
       "      <th>S&amp;P High</th>\n",
       "      <th>S&amp;P Low</th>\n",
       "      <th>S&amp;P Last</th>\n",
       "      <th>S&amp;P Change</th>\n",
       "      <th>S&amp;P Volume</th>\n",
       "    </tr>\n",
       "  </thead>\n",
       "  <tbody>\n",
       "    <tr>\n",
       "      <th>count</th>\n",
       "      <td>517.000000</td>\n",
       "      <td>517.000000</td>\n",
       "      <td>517.000000</td>\n",
       "      <td>517.000000</td>\n",
       "      <td>517.000000</td>\n",
       "      <td>503.000000</td>\n",
       "      <td>503.000000</td>\n",
       "      <td>503.000000</td>\n",
       "      <td>517.000000</td>\n",
       "      <td>469.000000</td>\n",
       "      <td>...</td>\n",
       "      <td>517.000000</td>\n",
       "      <td>517.000000</td>\n",
       "      <td>517.000000</td>\n",
       "      <td>517.000000</td>\n",
       "      <td>305.000000</td>\n",
       "      <td>305.000000</td>\n",
       "      <td>305.000000</td>\n",
       "      <td>517.000000</td>\n",
       "      <td>305.000000</td>\n",
       "      <td>3.050000e+02</td>\n",
       "    </tr>\n",
       "    <tr>\n",
       "      <th>mean</th>\n",
       "      <td>1463.266480</td>\n",
       "      <td>1473.282476</td>\n",
       "      <td>1454.805629</td>\n",
       "      <td>1464.513772</td>\n",
       "      <td>1.438298</td>\n",
       "      <td>12.641525</td>\n",
       "      <td>12.735409</td>\n",
       "      <td>12.510067</td>\n",
       "      <td>12.645980</td>\n",
       "      <td>17.154780</td>\n",
       "      <td>...</td>\n",
       "      <td>97.234487</td>\n",
       "      <td>97.487041</td>\n",
       "      <td>96.975803</td>\n",
       "      <td>97.225977</td>\n",
       "      <td>3030.230492</td>\n",
       "      <td>3053.190328</td>\n",
       "      <td>3006.500492</td>\n",
       "      <td>2982.153868</td>\n",
       "      <td>1.681639</td>\n",
       "      <td>2.755956e+05</td>\n",
       "    </tr>\n",
       "    <tr>\n",
       "      <th>std</th>\n",
       "      <td>204.496029</td>\n",
       "      <td>208.375042</td>\n",
       "      <td>201.180643</td>\n",
       "      <td>205.254184</td>\n",
       "      <td>14.753362</td>\n",
       "      <td>3.645810</td>\n",
       "      <td>3.625421</td>\n",
       "      <td>3.682707</td>\n",
       "      <td>3.619584</td>\n",
       "      <td>2.456672</td>\n",
       "      <td>...</td>\n",
       "      <td>1.582804</td>\n",
       "      <td>1.597737</td>\n",
       "      <td>1.567316</td>\n",
       "      <td>1.584447</td>\n",
       "      <td>216.879101</td>\n",
       "      <td>202.170038</td>\n",
       "      <td>230.725074</td>\n",
       "      <td>176.579084</td>\n",
       "      <td>51.767784</td>\n",
       "      <td>6.340782e+05</td>\n",
       "    </tr>\n",
       "    <tr>\n",
       "      <th>min</th>\n",
       "      <td>1182.710000</td>\n",
       "      <td>1191.600000</td>\n",
       "      <td>1181.060000</td>\n",
       "      <td>1182.290000</td>\n",
       "      <td>-115.160000</td>\n",
       "      <td>3.130020</td>\n",
       "      <td>3.177520</td>\n",
       "      <td>3.130020</td>\n",
       "      <td>3.177520</td>\n",
       "      <td>12.045000</td>\n",
       "      <td>...</td>\n",
       "      <td>92.200000</td>\n",
       "      <td>92.820000</td>\n",
       "      <td>92.120000</td>\n",
       "      <td>92.200000</td>\n",
       "      <td>2229.500000</td>\n",
       "      <td>2375.500000</td>\n",
       "      <td>2165.500000</td>\n",
       "      <td>2213.250000</td>\n",
       "      <td>-279.000000</td>\n",
       "      <td>0.000000e+00</td>\n",
       "    </tr>\n",
       "    <tr>\n",
       "      <th>25%</th>\n",
       "      <td>1286.710000</td>\n",
       "      <td>1292.400000</td>\n",
       "      <td>1282.120000</td>\n",
       "      <td>1286.310000</td>\n",
       "      <td>-4.730000</td>\n",
       "      <td>10.882000</td>\n",
       "      <td>10.980000</td>\n",
       "      <td>10.678000</td>\n",
       "      <td>10.866880</td>\n",
       "      <td>15.576000</td>\n",
       "      <td>...</td>\n",
       "      <td>96.480000</td>\n",
       "      <td>96.700000</td>\n",
       "      <td>96.210000</td>\n",
       "      <td>96.490000</td>\n",
       "      <td>2925.250000</td>\n",
       "      <td>2938.500000</td>\n",
       "      <td>2914.400000</td>\n",
       "      <td>2910.250000</td>\n",
       "      <td>-13.000000</td>\n",
       "      <td>0.000000e+00</td>\n",
       "    </tr>\n",
       "    <tr>\n",
       "      <th>50%</th>\n",
       "      <td>1464.190000</td>\n",
       "      <td>1473.320000</td>\n",
       "      <td>1458.920000</td>\n",
       "      <td>1464.260000</td>\n",
       "      <td>1.710000</td>\n",
       "      <td>12.355000</td>\n",
       "      <td>12.391300</td>\n",
       "      <td>12.224000</td>\n",
       "      <td>12.409700</td>\n",
       "      <td>16.710000</td>\n",
       "      <td>...</td>\n",
       "      <td>97.280000</td>\n",
       "      <td>97.470000</td>\n",
       "      <td>97.020000</td>\n",
       "      <td>97.240000</td>\n",
       "      <td>3014.250000</td>\n",
       "      <td>3029.500000</td>\n",
       "      <td>3005.750000</td>\n",
       "      <td>2910.250000</td>\n",
       "      <td>5.000000</td>\n",
       "      <td>2.400000e+01</td>\n",
       "    </tr>\n",
       "    <tr>\n",
       "      <th>75%</th>\n",
       "      <td>1577.550000</td>\n",
       "      <td>1595.260000</td>\n",
       "      <td>1571.180000</td>\n",
       "      <td>1581.010000</td>\n",
       "      <td>8.170000</td>\n",
       "      <td>14.990000</td>\n",
       "      <td>15.142500</td>\n",
       "      <td>14.947550</td>\n",
       "      <td>14.948000</td>\n",
       "      <td>18.025000</td>\n",
       "      <td>...</td>\n",
       "      <td>98.120000</td>\n",
       "      <td>98.320000</td>\n",
       "      <td>97.890000</td>\n",
       "      <td>98.120000</td>\n",
       "      <td>3198.000000</td>\n",
       "      <td>3216.750000</td>\n",
       "      <td>3179.000000</td>\n",
       "      <td>3070.750000</td>\n",
       "      <td>24.250000</td>\n",
       "      <td>5.726000e+03</td>\n",
       "    </tr>\n",
       "    <tr>\n",
       "      <th>max</th>\n",
       "      <td>2062.960000</td>\n",
       "      <td>2070.480000</td>\n",
       "      <td>2035.100000</td>\n",
       "      <td>2063.020000</td>\n",
       "      <td>69.160000</td>\n",
       "      <td>19.750000</td>\n",
       "      <td>19.750000</td>\n",
       "      <td>19.619800</td>\n",
       "      <td>19.619800</td>\n",
       "      <td>29.235000</td>\n",
       "      <td>...</td>\n",
       "      <td>102.970000</td>\n",
       "      <td>102.990000</td>\n",
       "      <td>101.650000</td>\n",
       "      <td>102.980000</td>\n",
       "      <td>3398.750000</td>\n",
       "      <td>3429.500000</td>\n",
       "      <td>3393.500000</td>\n",
       "      <td>3427.500000</td>\n",
       "      <td>227.500000</td>\n",
       "      <td>2.997253e+06</td>\n",
       "    </tr>\n",
       "  </tbody>\n",
       "</table>\n",
       "<p>8 rows × 23 columns</p>\n",
       "</div>"
      ],
      "text/plain": [
       "         Gold Open    Gold High     Gold Low    Gold Last  Gold Change  \\\n",
       "count   517.000000   517.000000   517.000000   517.000000   517.000000   \n",
       "mean   1463.266480  1473.282476  1454.805629  1464.513772     1.438298   \n",
       "std     204.496029   208.375042   201.180643   205.254184    14.753362   \n",
       "min    1182.710000  1191.600000  1181.060000  1182.290000  -115.160000   \n",
       "25%    1286.710000  1292.400000  1282.120000  1286.310000    -4.730000   \n",
       "50%    1464.190000  1473.320000  1458.920000  1464.260000     1.710000   \n",
       "75%    1577.550000  1595.260000  1571.180000  1581.010000     8.170000   \n",
       "max    2062.960000  2070.480000  2035.100000  2063.020000    69.160000   \n",
       "\n",
       "         Oil Open    Oil High     Oil Low    Oil Last  Silver Open  ...  \\\n",
       "count  503.000000  503.000000  503.000000  517.000000   469.000000  ...   \n",
       "mean    12.641525   12.735409   12.510067   12.645980    17.154780  ...   \n",
       "std      3.645810    3.625421    3.682707    3.619584     2.456672  ...   \n",
       "min      3.130020    3.177520    3.130020    3.177520    12.045000  ...   \n",
       "25%     10.882000   10.980000   10.678000   10.866880    15.576000  ...   \n",
       "50%     12.355000   12.391300   12.224000   12.409700    16.710000  ...   \n",
       "75%     14.990000   15.142500   14.947550   14.948000    18.025000  ...   \n",
       "max     19.750000   19.750000   19.619800   19.619800    29.235000  ...   \n",
       "\n",
       "         USD Open    USD High     USD Low    USD Last     S&P Open  \\\n",
       "count  517.000000  517.000000  517.000000  517.000000   305.000000   \n",
       "mean    97.234487   97.487041   96.975803   97.225977  3030.230492   \n",
       "std      1.582804    1.597737    1.567316    1.584447   216.879101   \n",
       "min     92.200000   92.820000   92.120000   92.200000  2229.500000   \n",
       "25%     96.480000   96.700000   96.210000   96.490000  2925.250000   \n",
       "50%     97.280000   97.470000   97.020000   97.240000  3014.250000   \n",
       "75%     98.120000   98.320000   97.890000   98.120000  3198.000000   \n",
       "max    102.970000  102.990000  101.650000  102.980000  3398.750000   \n",
       "\n",
       "          S&P High      S&P Low     S&P Last  S&P Change    S&P Volume  \n",
       "count   305.000000   305.000000   517.000000  305.000000  3.050000e+02  \n",
       "mean   3053.190328  3006.500492  2982.153868    1.681639  2.755956e+05  \n",
       "std     202.170038   230.725074   176.579084   51.767784  6.340782e+05  \n",
       "min    2375.500000  2165.500000  2213.250000 -279.000000  0.000000e+00  \n",
       "25%    2938.500000  2914.400000  2910.250000  -13.000000  0.000000e+00  \n",
       "50%    3029.500000  3005.750000  2910.250000    5.000000  2.400000e+01  \n",
       "75%    3216.750000  3179.000000  3070.750000   24.250000  5.726000e+03  \n",
       "max    3429.500000  3393.500000  3427.500000  227.500000  2.997253e+06  \n",
       "\n",
       "[8 rows x 23 columns]"
      ]
     },
     "execution_count": 4,
     "metadata": {},
     "output_type": "execute_result"
    }
   ],
   "source": [
    "df.describe()"
   ]
  },
  {
   "cell_type": "code",
   "execution_count": 5,
   "metadata": {},
   "outputs": [],
   "source": [
    "#Setting X and Y variables for training.\n",
    "x = df[['Oil Last', 'Silver Last', 'USD Last', 'S&P Last']]\n",
    "y = df['Gold Open']"
   ]
  },
  {
   "cell_type": "code",
   "execution_count": 6,
   "metadata": {},
   "outputs": [],
   "source": [
    "#Implementing TTS.\n",
    "x_train, x_test, y_train, y_test = train_test_split(x, y, test_size = 0.2, random_state=1)\n"
   ]
  },
  {
   "cell_type": "code",
   "execution_count": 7,
   "metadata": {},
   "outputs": [],
   "source": [
    "#Scaling x-values.\n",
    "scaler = preprocessing.StandardScaler().fit(x_train)\n",
    "x_train = scaler.transform(x_train)\n",
    "x_test = scaler.transform(x_test)"
   ]
  },
  {
   "cell_type": "code",
   "execution_count": 8,
   "metadata": {},
   "outputs": [
    {
     "data": {
      "text/plain": [
       "LinearRegression(normalize=True)"
      ]
     },
     "execution_count": 8,
     "metadata": {},
     "output_type": "execute_result"
    }
   ],
   "source": [
    "#Importing and implementing LR model.\n",
    "linreg = LinearRegression(normalize = True)\n",
    "linreg.fit(x_train, y_train)"
   ]
  },
  {
   "cell_type": "code",
   "execution_count": 9,
   "metadata": {},
   "outputs": [],
   "source": [
    "#Load predicted values\n",
    "y_pred = linreg.predict(x_test)"
   ]
  },
  {
   "cell_type": "code",
   "execution_count": 10,
   "metadata": {},
   "outputs": [
    {
     "data": {
      "text/html": [
       "<div>\n",
       "<style scoped>\n",
       "    .dataframe tbody tr th:only-of-type {\n",
       "        vertical-align: middle;\n",
       "    }\n",
       "\n",
       "    .dataframe tbody tr th {\n",
       "        vertical-align: top;\n",
       "    }\n",
       "\n",
       "    .dataframe thead th {\n",
       "        text-align: right;\n",
       "    }\n",
       "</style>\n",
       "<table border=\"1\" class=\"dataframe\">\n",
       "  <thead>\n",
       "    <tr style=\"text-align: right;\">\n",
       "      <th></th>\n",
       "      <th>Actual</th>\n",
       "      <th>Predicted</th>\n",
       "      <th>Residual</th>\n",
       "    </tr>\n",
       "    <tr>\n",
       "      <th>Date</th>\n",
       "      <th></th>\n",
       "      <th></th>\n",
       "      <th></th>\n",
       "    </tr>\n",
       "  </thead>\n",
       "  <tbody>\n",
       "    <tr>\n",
       "      <th>2019-08-08</th>\n",
       "      <td>1501.01</td>\n",
       "      <td>1546.746009</td>\n",
       "      <td>-45.736009</td>\n",
       "    </tr>\n",
       "    <tr>\n",
       "      <th>2020-04-20</th>\n",
       "      <td>1680.65</td>\n",
       "      <td>1557.686824</td>\n",
       "      <td>122.963176</td>\n",
       "    </tr>\n",
       "    <tr>\n",
       "      <th>2020-02-19</th>\n",
       "      <td>1601.23</td>\n",
       "      <td>1643.861190</td>\n",
       "      <td>-42.631190</td>\n",
       "    </tr>\n",
       "    <tr>\n",
       "      <th>2019-10-16</th>\n",
       "      <td>1480.99</td>\n",
       "      <td>1577.211722</td>\n",
       "      <td>-96.221722</td>\n",
       "    </tr>\n",
       "    <tr>\n",
       "      <th>2019-10-11</th>\n",
       "      <td>1493.38</td>\n",
       "      <td>1594.940890</td>\n",
       "      <td>-101.560890</td>\n",
       "    </tr>\n",
       "    <tr>\n",
       "      <th>2019-07-17</th>\n",
       "      <td>1405.98</td>\n",
       "      <td>1354.991164</td>\n",
       "      <td>50.988836</td>\n",
       "    </tr>\n",
       "    <tr>\n",
       "      <th>2020-01-14</th>\n",
       "      <td>1547.77</td>\n",
       "      <td>1558.081382</td>\n",
       "      <td>-10.311382</td>\n",
       "    </tr>\n",
       "    <tr>\n",
       "      <th>2020-06-18</th>\n",
       "      <td>1725.77</td>\n",
       "      <td>1558.271787</td>\n",
       "      <td>167.498213</td>\n",
       "    </tr>\n",
       "    <tr>\n",
       "      <th>2019-07-01</th>\n",
       "      <td>1411.29</td>\n",
       "      <td>1331.794417</td>\n",
       "      <td>79.495583</td>\n",
       "    </tr>\n",
       "    <tr>\n",
       "      <th>2019-01-29</th>\n",
       "      <td>1303.25</td>\n",
       "      <td>1332.667897</td>\n",
       "      <td>-29.417897</td>\n",
       "    </tr>\n",
       "    <tr>\n",
       "      <th>2018-12-13</th>\n",
       "      <td>1245.48</td>\n",
       "      <td>1358.285879</td>\n",
       "      <td>-112.805879</td>\n",
       "    </tr>\n",
       "    <tr>\n",
       "      <th>2020-07-10</th>\n",
       "      <td>1802.68</td>\n",
       "      <td>1592.981642</td>\n",
       "      <td>209.698358</td>\n",
       "    </tr>\n",
       "    <tr>\n",
       "      <th>2019-07-22</th>\n",
       "      <td>1425.96</td>\n",
       "      <td>1366.184218</td>\n",
       "      <td>59.775782</td>\n",
       "    </tr>\n",
       "    <tr>\n",
       "      <th>2019-08-13</th>\n",
       "      <td>1511.33</td>\n",
       "      <td>1538.073287</td>\n",
       "      <td>-26.743287</td>\n",
       "    </tr>\n",
       "    <tr>\n",
       "      <th>2019-05-22</th>\n",
       "      <td>1275.20</td>\n",
       "      <td>1391.038712</td>\n",
       "      <td>-115.838712</td>\n",
       "    </tr>\n",
       "    <tr>\n",
       "      <th>2019-05-10</th>\n",
       "      <td>1284.32</td>\n",
       "      <td>1357.555919</td>\n",
       "      <td>-73.235919</td>\n",
       "    </tr>\n",
       "    <tr>\n",
       "      <th>2019-04-30</th>\n",
       "      <td>1287.60</td>\n",
       "      <td>1376.058742</td>\n",
       "      <td>-88.458742</td>\n",
       "    </tr>\n",
       "    <tr>\n",
       "      <th>2019-04-16</th>\n",
       "      <td>1272.70</td>\n",
       "      <td>1363.674648</td>\n",
       "      <td>-90.974648</td>\n",
       "    </tr>\n",
       "    <tr>\n",
       "      <th>2018-08-30</th>\n",
       "      <td>1206.66</td>\n",
       "      <td>1190.332462</td>\n",
       "      <td>16.327538</td>\n",
       "    </tr>\n",
       "    <tr>\n",
       "      <th>2018-10-22</th>\n",
       "      <td>1227.29</td>\n",
       "      <td>1230.767476</td>\n",
       "      <td>-3.477476</td>\n",
       "    </tr>\n",
       "    <tr>\n",
       "      <th>2019-03-20</th>\n",
       "      <td>1302.70</td>\n",
       "      <td>1325.931890</td>\n",
       "      <td>-23.231890</td>\n",
       "    </tr>\n",
       "    <tr>\n",
       "      <th>2020-04-02</th>\n",
       "      <td>1589.94</td>\n",
       "      <td>1457.715307</td>\n",
       "      <td>132.224693</td>\n",
       "    </tr>\n",
       "    <tr>\n",
       "      <th>2019-04-17</th>\n",
       "      <td>1276.77</td>\n",
       "      <td>1386.578313</td>\n",
       "      <td>-109.808313</td>\n",
       "    </tr>\n",
       "    <tr>\n",
       "      <th>2018-12-26</th>\n",
       "      <td>1276.09</td>\n",
       "      <td>1317.779516</td>\n",
       "      <td>-41.689516</td>\n",
       "    </tr>\n",
       "    <tr>\n",
       "      <th>2019-06-03</th>\n",
       "      <td>1308.39</td>\n",
       "      <td>1307.915627</td>\n",
       "      <td>0.474373</td>\n",
       "    </tr>\n",
       "  </tbody>\n",
       "</table>\n",
       "</div>"
      ],
      "text/plain": [
       "             Actual    Predicted    Residual\n",
       "Date                                        \n",
       "2019-08-08  1501.01  1546.746009  -45.736009\n",
       "2020-04-20  1680.65  1557.686824  122.963176\n",
       "2020-02-19  1601.23  1643.861190  -42.631190\n",
       "2019-10-16  1480.99  1577.211722  -96.221722\n",
       "2019-10-11  1493.38  1594.940890 -101.560890\n",
       "2019-07-17  1405.98  1354.991164   50.988836\n",
       "2020-01-14  1547.77  1558.081382  -10.311382\n",
       "2020-06-18  1725.77  1558.271787  167.498213\n",
       "2019-07-01  1411.29  1331.794417   79.495583\n",
       "2019-01-29  1303.25  1332.667897  -29.417897\n",
       "2018-12-13  1245.48  1358.285879 -112.805879\n",
       "2020-07-10  1802.68  1592.981642  209.698358\n",
       "2019-07-22  1425.96  1366.184218   59.775782\n",
       "2019-08-13  1511.33  1538.073287  -26.743287\n",
       "2019-05-22  1275.20  1391.038712 -115.838712\n",
       "2019-05-10  1284.32  1357.555919  -73.235919\n",
       "2019-04-30  1287.60  1376.058742  -88.458742\n",
       "2019-04-16  1272.70  1363.674648  -90.974648\n",
       "2018-08-30  1206.66  1190.332462   16.327538\n",
       "2018-10-22  1227.29  1230.767476   -3.477476\n",
       "2019-03-20  1302.70  1325.931890  -23.231890\n",
       "2020-04-02  1589.94  1457.715307  132.224693\n",
       "2019-04-17  1276.77  1386.578313 -109.808313\n",
       "2018-12-26  1276.09  1317.779516  -41.689516\n",
       "2019-06-03  1308.39  1307.915627    0.474373"
      ]
     },
     "execution_count": 10,
     "metadata": {},
     "output_type": "execute_result"
    }
   ],
   "source": [
    "#Loading actual vs predicted value into dataframe and calculating residuals.\n",
    "residual = (y_test - y_pred)\n",
    "df_lin_test = pd.DataFrame({'Actual' : y_test, 'Predicted': y_pred,'Residual': residual})\n",
    "df_lin_test.head(25)"
   ]
  },
  {
   "cell_type": "code",
   "execution_count": 11,
   "metadata": {},
   "outputs": [
    {
     "data": {
      "text/plain": [
       "<matplotlib.axes._subplots.AxesSubplot at 0x1acc6201908>"
      ]
     },
     "execution_count": 11,
     "metadata": {},
     "output_type": "execute_result"
    },
    {
     "data": {
      "image/png": "[encoded data removed]",
      "text/plain": [
       "<Figure size 1080x720 with 1 Axes>"
      ]
     },
     "metadata": {
      "needs_background": "light"
     },
     "output_type": "display_data"
    }
   ],
   "source": [
    "#Creating bar chart of predicted vs actual values.\n",
    "df_lin_graph = df_lin_test.head(25)\n",
    "df_lin_graph_out = df_lin_graph.plot(kind='bar', figsize=(15,10))\n",
    "df_lin_graph_out"
   ]
  },
  {
   "cell_type": "code",
   "execution_count": 12,
   "metadata": {},
   "outputs": [
    {
     "data": {
      "text/plain": [
       "<matplotlib.axes._subplots.AxesSubplot at 0x1acc6577f08>"
      ]
     },
     "execution_count": 12,
     "metadata": {},
     "output_type": "execute_result"
    },
    {
     "data": {
      "image/png": "[encoded data removed]",
      "text/plain": [
       "<Figure size 432x288 with 1 Axes>"
      ]
     },
     "metadata": {
      "needs_background": "light"
     },
     "output_type": "display_data"
    }
   ],
   "source": [
    "import seaborn as sns\n",
    "\n",
    "ax1 = sns.distplot(y, hist=False, color=\"r\", label=\"Actual Value\")\n",
    "sns.distplot(y_pred, hist=False, color=\"b\", label=\"Fitted Values\" , ax=ax1)"
   ]
  },
  {
   "cell_type": "code",
   "execution_count": 13,
   "metadata": {},
   "outputs": [
    {
     "data": {
      "text/plain": [
       "Text(0, 0.5, 'Residual')"
      ]
     },
     "execution_count": 13,
     "metadata": {},
     "output_type": "execute_result"
    },
    {
     "data": {
      "image/png": "[encoded data removed]",
      "text/plain": [
       "<Figure size 432x288 with 1 Axes>"
      ]
     },
     "metadata": {
      "needs_background": "light"
     },
     "output_type": "display_data"
    }
   ],
   "source": [
    "#Creating residual and predicted plot and looking for patterns.\n",
    "sns.regplot(y_pred, residual, fit_reg=False)\n",
    "plt.title('Residuals VS Predicted Values')\n",
    "plt.xlabel('Predicted Values')\n",
    "plt.ylabel('Residual')"
   ]
  },
  {
   "cell_type": "code",
   "execution_count": 14,
   "metadata": {},
   "outputs": [
    {
     "data": {
      "text/plain": [
       "Text(0, 0.5, 'Count')"
      ]
     },
     "execution_count": 14,
     "metadata": {},
     "output_type": "execute_result"
    },
    {
     "data": {
      "image/png": "[encoded data removed]",
      "text/plain": [
       "<Figure size 432x288 with 1 Axes>"
      ]
     },
     "metadata": {
      "needs_background": "light"
     },
     "output_type": "display_data"
    }
   ],
   "source": [
    "#Creating histogram of residuals and looking for patterns.\n",
    "sns.distplot(residual, bins = 10)\n",
    "plt.title('Histogram of Residuals')\n",
    "plt.xlabel('Residual Value')\n",
    "plt.ylabel('Count')"
   ]
  },
  {
   "cell_type": "code",
   "execution_count": 15,
   "metadata": {},
   "outputs": [
    {
     "name": "stdout",
     "output_type": "stream",
     "text": [
      "The Mean Squared Error Is: 106.65041651637968\n"
     ]
    }
   ],
   "source": [
    "#Calculating root mean squared error.\n",
    "rmse = sqrt(mean_squared_error(y_test, y_pred))\n",
    "print('The Mean Squared Error Is: ' + str(rmse))"
   ]
  },
  {
   "cell_type": "code",
   "execution_count": 16,
   "metadata": {
    "scrolled": true
   },
   "outputs": [
    {
     "name": "stdout",
     "output_type": "stream",
     "text": [
      "The Model Score Is: 0.7309519969810709\n"
     ]
    }
   ],
   "source": [
    "#Calculating model score.\n",
    "print('The Model Score Is: ' + str(linreg.score(x_test, y_test)))"
   ]
  },
  {
   "cell_type": "code",
   "execution_count": null,
   "metadata": {},
   "outputs": [],
   "source": []
  }
 ],
 "metadata": {
  "kernelspec": {
   "display_name": "Python 3",
   "language": "python",
   "name": "python3"
  },
  "language_info": {
   "codemirror_mode": {
    "name": "ipython",
    "version": 3
   },
   "file_extension": ".py",
   "mimetype": "text/x-python",
   "name": "python",
   "nbconvert_exporter": "python",
   "pygments_lexer": "ipython3",
   "version": "3.7.6"
  }
 },
 "nbformat": 4,
 "nbformat_minor": 4
}
